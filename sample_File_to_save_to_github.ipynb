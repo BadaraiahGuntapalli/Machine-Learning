{
  "nbformat": 4,
  "nbformat_minor": 0,
  "metadata": {
    "colab": {
      "provenance": [],
      "authorship_tag": "ABX9TyMEACH3ScONOSNF/084pX+w",
      "include_colab_link": true
    },
    "kernelspec": {
      "name": "python3",
      "display_name": "Python 3"
    },
    "language_info": {
      "name": "python"
    }
  },
  "cells": [
    {
      "cell_type": "markdown",
      "metadata": {
        "id": "view-in-github",
        "colab_type": "text"
      },
      "source": [
        "<a href=\"https://colab.research.google.com/github/BadaraiahGuntapalli/Machine-Learning/blob/main/sample_File_to_save_to_github.ipynb\" target=\"_parent\"><img src=\"https://colab.research.google.com/assets/colab-badge.svg\" alt=\"Open In Colab\"/></a>"
      ]
    },
    {
      "cell_type": "code",
      "execution_count": 1,
      "metadata": {
        "id": "Uv8ollbClw4m"
      },
      "outputs": [],
      "source": [
        "import numpy as np"
      ]
    },
    {
      "cell_type": "code",
      "source": [
        "x = np.random.randint(10, high=50, size = (2, 5))"
      ],
      "metadata": {
        "id": "lSY7aKFMl73w"
      },
      "execution_count": 3,
      "outputs": []
    },
    {
      "cell_type": "code",
      "source": [
        "print(x)"
      ],
      "metadata": {
        "colab": {
          "base_uri": "https://localhost:8080/"
        },
        "id": "InB3rKKUp7v_",
        "outputId": "2aa843fa-60f8-4d6b-dd16-73b3e600d495"
      },
      "execution_count": 4,
      "outputs": [
        {
          "output_type": "stream",
          "name": "stdout",
          "text": [
            "[[17 10 15 22 33]\n",
            " [47 39 10 31 43]]\n"
          ]
        }
      ]
    },
    {
      "cell_type": "code",
      "source": [
        "y = 5 + x**2"
      ],
      "metadata": {
        "id": "ofnih4fGqHqv"
      },
      "execution_count": 6,
      "outputs": []
    },
    {
      "cell_type": "code",
      "source": [
        "print(y)"
      ],
      "metadata": {
        "colab": {
          "base_uri": "https://localhost:8080/"
        },
        "id": "4314-jJtrYyC",
        "outputId": "6715e184-1bcc-439e-ef3f-a3c99edc3e2a"
      },
      "execution_count": 7,
      "outputs": [
        {
          "output_type": "stream",
          "name": "stdout",
          "text": [
            "[[ 294  105  230  489 1094]\n",
            " [2214 1526  105  966 1854]]\n"
          ]
        }
      ]
    },
    {
      "cell_type": "code",
      "source": [],
      "metadata": {
        "id": "3iBCZMWyrc9Q"
      },
      "execution_count": null,
      "outputs": []
    }
  ]
}